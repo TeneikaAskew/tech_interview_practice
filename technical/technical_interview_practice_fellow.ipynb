{
 "cells": [
  {
   "cell_type": "markdown",
   "metadata": {
    "nbgrader": {
     "grade": false,
     "grade_id": "cell-91c8811a972c66c4",
     "locked": true,
     "schema_version": 3,
     "solution": false,
     "task": false
    }
   },
   "source": [
    "# Understanding sales and the movement of products sold"
   ]
  },
  {
   "cell_type": "markdown",
   "metadata": {
    "nbgrader": {
     "grade": false,
     "grade_id": "cell-e950dba2bec7261c",
     "locked": true,
     "schema_version": 3,
     "solution": false,
     "task": false
    },
    "tags": [
     "4_min"
    ]
   },
   "source": [
    "## Introduction\n",
    "\n",
    "A large part of a data scientists role consists of data engineering to implement analysis at scale. You should be prepared to analyze data in a variety of tools and languages, the larger the company - the more robust the tool or language. In a data science or analyst interview, you’ll be tested on your experience with the technical tools a company uses and your overall knowledge of programming theory.\n",
    "\n",
    "**Business Context.** You work for AdventureWorks, a company that sells outdoor sporting equipment. The company has many different locations, products and customers and records all sales and customer focused data in their data lake. You have been given access to the relevant data files with documentation from the IT department. Your job is to extract meaningful insights from these data files to help increase sales and inventory turnover.\n",
    "\n",
    "**Business Problem.** Leadership would like to to better inform our logistics team on total revenue and days of the week with the top revenues and products sold . Your task is to **write SQL queries that retrieve the answers to the above questions.**.\n",
    "\n",
    "### Why SQL?:\n",
    "SQL has remained a [top query language](https://www.indeed.com/career-advice/career-development/best-programming-languages-to-learn) and is heavily utilized in startups and established companies. As a data analyst or data scientist, you may encounter SQL, Python or R in a technical  interview. SQL is a primary language because in many roles, you may also be required to understand how to get data from source systems in the most efficient way. This interview could be a primary indicator of your on the job skills for many organizations.\n",
    "\n",
    "\n",
    "### Frameworks for answering technical/whiteboard style questions:\n",
    "During your interview you may be asked to answer questions conceptually (thinking out loud) or use a online coding environment such as [CoderPad](https://coderpad.io/), [HackerRank](https://www.hackerrank.com/), etc, to write and sometimes execute code. During this time your interviewer monitors and probes for deeper insight into why you chose certain functions. The interviewer is there to understand how efficient your solution is and in some cases, the number of errors or assistance you may require given a short time constraint. Use something like [SQLFiddle](http://sqlfiddle.com/) if you want to practice your SQL querying skills!"
   ]
  },
  {
   "cell_type": "markdown",
   "metadata": {},
   "source": [
    "## Interview Questions\n",
    "\n",
    "*SQL* - You are provided the following tables to answer the questions below: **SalesOrderDetail** (SalesOrderID, ProductID, OrderQty), **SalesOrderHeader** (SalesOrderID, OrderDate) and **Product** (ProductID, ListPrice)**:\n",
    "1. Calculate total revenue\n",
    "2. Calculate total/average/standard deviation of purchase quantities on a weekday (Monday - Friday), sorted by top number of purchases and display in table form.\n",
    "3. Calculate total quantity of products that were not purchased on a weekday\n",
    "\n",
    "**Questions 1 and 3 should display a single number, while question 2 should look similart to the table below:**\n\n",
    "![Table sample of question 2 result](data/question2_answer.PNG)"
   ]
  },
  {
   "cell_type": "markdown",
   "metadata": {
    "nbgrader": {
     "grade": false,
     "grade_id": "cell-cba9ff636a6f2ba8",
     "locked": true,
     "schema_version": 3,
     "solution": false,
     "task": false
    },
    "tags": [
     "6_min"
    ]
   },
   "source": [
    "## Overview of the data\n",
    "\n",
    "The data for this case is contained in the [`AdventureWorks.db`](data/AdventureWorks.db) SQLite database. We will be focusing on the tables that belong to the Sales and Product categories. Complete documentation for the original data (of which you have only a subset) can be found [here](https://dataedo.com/download/AdventureWorks.pdf).\n",
    "\n",
    "**Key Tables and Features:**\n",
    "* **Product**: one row per product that the company sells\n",
    "* **SalesOrderHeader**: one row per sale summarizing the sale\n",
    "\n",
    "![Fields of the two tables](data/Tables.PNG)"
   ]
  },
  {
   "cell_type": "markdown",
   "metadata": {
    "nbgrader": {
     "grade": false,
     "grade_id": "cell-f3b077034afbeb10",
     "locked": true,
     "schema_version": 3,
     "solution": false,
     "task": false
    }
   },
   "source": [
    "The usual. Importing the libraries and the `sql` extension:"
   ]
  },
  {
   "cell_type": "code",
   "execution_count": 1,
   "metadata": {},
   "outputs": [],
   "source": [
    "#EDA"
   ]
  },
  {
   "cell_type": "code",
   "execution_count": 2,
   "metadata": {},
   "outputs": [],
   "source": [
    "#Question 1: Total revenue"
   ]
  },
  {
   "cell_type": "markdown",
   "metadata": {},
   "source": [
    "Since we are using SQLite, we realized there is no Standard deviation command and we will need to get creative!! The formula for standard deviation: **Stdev = square root of variance**\n",
    "\n",
    "We have square root as a SQLite command. So how do we calulate the variance?!!\n",
    "\n",
    "\\\\(V(x) = E(x^2) - E(x)^2\\\\)"
   ]
  },
  {
   "cell_type": "code",
   "execution_count": 3,
   "metadata": {},
   "outputs": [],
   "source": [
    "#Question 2: \n",
    "# Total number/average/standard deviation of purchase quantities for the set of weekdays (Monday - Friday) \n",
    "# ordered by descending number of purchases."
   ]
  },
  {
   "cell_type": "code",
   "execution_count": 4,
   "metadata": {
    "nbgrader": {
     "grade": false,
     "grade_id": "cell-2b1bbc6190ec3559",
     "locked": false,
     "schema_version": 3,
     "solution": true,
     "task": false
    }
   },
   "outputs": [],
   "source": [
    "# Question 3\n",
    "# Number of products that were NOT purchased on a weekday."
   ]
  },
  {
   "cell_type": "markdown",
   "metadata": {},
   "source": [
    "## Attribution\n",
    "\n",
    "\"AdventureWorks database\", Nov 7, 2017, Microsoft Corporation, [MIT License](https://docs.microsoft.com/en-us/sql/samples/sql-samples-where-are?view=sql-server-ver15), https://github.com/microsoft/sql-server-samples/tree/master/samples/databases/adventure-works"
   ]
  }
 ],
 "metadata": {
  "c1_recart": "6.10.0-57c20131aabc1dc2a8c675852d80a7da",
  "kernelspec": {
   "display_name": "Python 3",
   "language": "python",
   "name": "python3"
  },
  "language_info": {
   "codemirror_mode": {
    "name": "ipython",
    "version": 3
   },
   "file_extension": ".py",
   "mimetype": "text/x-python",
   "name": "python",
   "nbconvert_exporter": "python",
   "pygments_lexer": "ipython3",
   "version": "3.8.8"
  }
 },
 "nbformat": 4,
 "nbformat_minor": 4
}
