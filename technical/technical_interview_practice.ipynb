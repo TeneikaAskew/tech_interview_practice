
{
 "cells": [
  {
   "cell_type": "markdown",
   "metadata": {
    "nbgrader": {
     "grade": false,
     "grade_id": "cell-91c8811a972c66c4",
     "locked": true,
     "schema_version": 3,
     "solution": false,
     "task": false
    }
   },
   "source": [
    "# Understanding sales and the movement of products sold"
   ]
  },
  {
   "cell_type": "markdown",
   "metadata": {
    "nbgrader": {
     "grade": false,
     "grade_id": "cell-e950dba2bec7261c",
     "locked": true,
     "schema_version": 3,
     "solution": false,
     "task": false
    },
    "tags": [
     "4_min"
    ]
   },
   "source": [
    "## Introduction\n",
    "\n",
    "A large part of a data scientists role consists of data engineering to implement analysis at scale. You should be prepared to analyze data in a variety of tools and languages, the larger the company - the more robust the tool or language. In a data science or analyst interview, you’ll be tested on your experience with the technical tools a company uses and your overall knowledge of programming theory.\n",
    "\n",
    "**Business Context.** You work for AdventureWorks, a company that sells outdoor sporting equipment. The company has many different locations, products and customers and records all sales and customer focused data in their data lake. You have been given access to the relevant data files with documentation from the IT department. Your job is to extract meaningful insights from these data files to help increase sales and inventory turnover.\n",
    "\n",
    "**Business Problem.** Leadership would like to to better inform our logistics team on total revenue and days of the week with the top revenues and products sold . Your task is to **write SQL queries that retrieve the answers to the above questions.**.\n",
    "\n",
    "### Why SQL?:\n",
    "SQL has remained a [top query language](https://www.indeed.com/career-advice/career-development/best-programming-languages-to-learn) and is heavily utilized in startups and established companies. As a data analyst or data scientist, you may encounter SQL, Python or R in a technical  interview. SQL is a primary language because in many roles, you may also be required to understand how to get data from source systems in the most efficient way. This interview could be a primary indicator of your on the job skills for many organizations.\n",
    "\n",
    "\n",
    "### Frameworks for answering technical/whiteboard style questions:\n",
    "During your interview you may be asked to answer questions conceptually (thinking out loud) or use a online coding environment such as [CoderPad](https://coderpad.io/), [HackerRank](https://www.hackerrank.com/), etc, to write and sometimes execute code. During this time your interviewer monitors and probes for deeper insight into why you chose certain functions. The interviewer is there to understand how efficient your solution is and in some cases, the number of errors or assistance you may require given a short time constraint. Use something like [SQLFiddle](http://sqlfiddle.com/) if you want to practice your SQL querying skills!"
   ]
  },
  {
   "cell_type": "markdown",
   "metadata": {
    "nbgrader": {
     "grade": false,
     "grade_id": "cell-e950dba2bec7261c",
     "locked": true,
     "schema_version": 3,
     "solution": false,
     "task": false
    },
    "tags": [
     "4_min"
    ]
   },
   "source": [
    "## Interview Questions\n",
    "\n",
    "*SQL* - You are provided the following tables to answer the questions below: **SalesOrderDetail** (SalesOrderID, ProductID, OrderQty), **SalesOrderHeader** (SalesOrderID, OrderDate) and **Product** (ProductID, ListPrice)**:\n",
    "1. Calculate total revenue\n",
    "2. Calculate total/average/standard deviation of purchase quantities on a weekday (Monday - Friday), sorted by top number of purchases and display in table form.\n",
    "3. Calculate total quantity of products that were not purchased on a weekday\n",
    "\n",
    "**Questions 1 and 3 should display a single number, while question 2 should look similart to the table below:**\n",
    "\n",
    "![Table sample of question 2 result](data/question2_answer.PNG)"
   ]
  },
  {
   "cell_type": "markdown",
   "metadata": {
    "nbgrader": {
     "grade": false,
     "grade_id": "cell-cba9ff636a6f2ba8",
     "locked": true,
     "schema_version": 3,
     "solution": false,
     "task": false
    },
    "tags": [
     "6_min"
    ]
   },
   "source": [
    "## Overview of the data\n",
    "\n",
    "The data for this case is contained in the [`AdventureWorks.db`](data/AdventureWorks.db) SQLite database. We will be focusing on the tables that belong to the Sales and Product categories. Complete documentation for the original data (of which you have only a subset) can be found [here](https://dataedo.com/download/AdventureWorks.pdf).\n",
    "\n",
    "**Key Tables and Features:**\n",
    "* **Product**: one row per product that the company sells\n",
    "* **SalesOrderHeader**: one row per sale summarizing the sale\n",
    "\n",
    "![Fields of the two tables](data/Tables.PNG)"
   ]
  },
  {
   "cell_type": "markdown",
   "metadata": {
    "nbgrader": {
     "grade": false,
     "grade_id": "cell-f3b077034afbeb10",
     "locked": true,
     "schema_version": 3,
     "solution": false,
     "task": false
    }
   },
   "source": [
    "The usual. Importing the libraries and the `sql` extension:"
   ]
  },
  {
   "cell_type": "code",
   "execution_count": 1,
   "metadata": {},
   "outputs": [],
   "source": [
    "!pip install -r requirements.txt -q\n",
    "import sqlalchemy\n",
    "sqlite_engine = sqlalchemy.create_engine(\"sqlite:///AdventureWorks.db\")"
   ]
  },
  {
   "cell_type": "code",
   "execution_count": 2,
   "metadata": {
    "nbgrader": {
     "grade": false,
     "grade_id": "cell-adb721d632188af7",
     "locked": true,
     "schema_version": 3,
     "solution": false,
     "task": false
    }
   },
   "outputs": [],
   "source": [
    "%load_ext sql\n",
    "import pandas as pd"
   ]
  },
  {
   "cell_type": "code",
   "execution_count": 3,
   "metadata": {
    "nbgrader": {
     "grade": false,
     "grade_id": "cell-d9dd892261439505",
     "locked": true,
     "schema_version": 3,
     "solution": false,
     "task": false
    }
   },
   "outputs": [],
   "source": [
    "%sql sqlite:///AdventureWorks.db"
   ]
  },
  {
   "cell_type": "markdown",
   "metadata": {
    "nbgrader": {
     "grade": false,
     "grade_id": "cell-a0c2bec563c45af2",
     "locked": true,
     "schema_version": 3,
     "solution": false,
     "task": false
    }
   },
   "source": [
    "Remember that in order to run SQL queries from within this notebook, you should write `%%sql` at the start of your code cell, like this:"
   ]
  },
  {
   "cell_type": "code",
   "execution_count": 4,
   "metadata": {
    "nbgrader": {
     "grade": false,
     "grade_id": "cell-1c377e58b7758e21",
     "locked": true,
     "schema_version": 3,
     "solution": false,
     "task": false
    }
   },
   "outputs": [
    {
     "name": "stdout",
     "output_type": "stream",
     "text": [
      " * sqlite:///AdventureWorks.db\n",
      "Done.\n"
     ]
    },
    {
     "data": {
      "text/html": [
       "<table>\n",
       "    <tr>\n",
       "        <th>salesorderid</th>\n",
       "        <th>productid</th>\n",
       "        <th>orderqty</th>\n",
       "    </tr>\n",
       "    <tr>\n",
       "        <td>43659</td>\n",
       "        <td>776</td>\n",
       "        <td>1</td>\n",
       "    </tr>\n",
       "    <tr>\n",
       "        <td>43659</td>\n",
       "        <td>777</td>\n",
       "        <td>3</td>\n",
       "    </tr>\n",
       "</table>"
      ],
      "text/plain": [
       "[(43659, 776, 1), (43659, 777, 3)]"
      ]
     },
     "execution_count": 4,
     "metadata": {},
     "output_type": "execute_result"
    }
   ],
   "source": [
    "%%sql\n",
    "SELECT\n",
    "    SalesOrderID\n",
    "    , ProductID\n",
    "    , OrderQty\n",
    "FROM SalesOrderDetail\n",
    "LIMIT 2;"
   ]
  },
  {
   "cell_type": "code",
   "execution_count": 5,
   "metadata": {},
   "outputs": [
    {
     "name": "stdout",
     "output_type": "stream",
     "text": [
      " * sqlite:///AdventureWorks.db\n",
      "Done.\n"
     ]
    },
    {
     "data": {
      "text/html": [
       "<table>\n",
       "    <tr>\n",
       "        <th>salesorderid</th>\n",
       "        <th>DATE(OrderDate)</th>\n",
       "    </tr>\n",
       "    <tr>\n",
       "        <td>43659</td>\n",
       "        <td>2011-05-31</td>\n",
       "    </tr>\n",
       "    <tr>\n",
       "        <td>43660</td>\n",
       "        <td>2011-05-31</td>\n",
       "    </tr>\n",
       "</table>"
      ],
      "text/plain": [
       "[(43659, '2011-05-31'), (43660, '2011-05-31')]"
      ]
     },
     "execution_count": 5,
     "metadata": {},
     "output_type": "execute_result"
    }
   ],
   "source": [
    "%%sql\n",
    "SELECT\n",
    "    SalesOrderID\n",
    "    , DATE(OrderDate)\n",
    "FROM SalesOrderHeader\n",
    "LIMIT 2;"
   ]
  },
  {
   "cell_type": "code",
   "execution_count": 6,
   "metadata": {},
   "outputs": [
    {
     "name": "stdout",
     "output_type": "stream",
     "text": [
      " * sqlite:///AdventureWorks.db\n",
      "(sqlite3.OperationalError) near \"#ORDER\": syntax error\n",
      "[SQL: SELECT ProductID , ListPrice\n",
      "FROM Product \n",
      "#ORDER BY 2 desc #ListPrice shows as 0 so we sort by descending to get an accurate representation of the data\n",
      "LIMIT 10;]\n",
      "(Background on this error at: http://sqlalche.me/e/14/e3q8)\n"
     ]
    }
   ],
   "source": [
    "%%sql\n",
    "SELECT \n",
    "    ProductID\n",
    "    , ListPrice\n",
    "FROM Product \n",
    "#ORDER BY 2 desc #ListPrice shows as 0 so we sort by descending to get an accurate representation of the data\n",
    "LIMIT 10;"
   ]
  },
  {
   "cell_type": "code",
   "execution_count": 7,
   "metadata": {},
   "outputs": [
    {
     "name": "stdout",
     "output_type": "stream",
     "text": [
      "The total revenue is $170,964,699.59\n"
     ]
    }
   ],
   "source": [
    "#Question 1: Total revenue\n",
    "revenue = \"\"\"\n",
    "    SELECT sum(s.orderqty * p.ListPrice) as revenue\n",
    "    FROM SalesOrderDetail s\n",
    "    LEFT JOIN Product p ON s.ProductID = p.ProductID;\n",
    "\"\"\"\n",
    "revenue = pd.read_sql(revenue, con=sqlite_engine)\n",
    "print('The total revenue is ${:,.2f}'.format(revenue.iloc[0][0]))"
   ]
  },
  {
   "cell_type": "markdown",
   "metadata": {},
   "source": [
    "Since we are using SQLite, we realized there is no Standard deviation command and we will need to get creative!! The formula for standard deviation: **Stdev = square root of variance**\n",
    "\n",
    "We have square root as a SQLite command. So how do we calulate the variance?!!\n",
    "\n",
    "\\\\(V(x) = E(x^2) - E(x)^2\\\\)"
   ]
  },
  {
   "cell_type": "code",
   "execution_count": 8,
   "metadata": {},
   "outputs": [
    {
     "data": {
      "text/html": [
       "<div>\n",
       "<style scoped>\n",
       "    .dataframe tbody tr th:only-of-type {\n",
       "        vertical-align: middle;\n",
       "    }\n",
       "\n",
       "    .dataframe tbody tr th {\n",
       "        vertical-align: top;\n",
       "    }\n",
       "\n",
       "    .dataframe thead th {\n",
       "        text-align: right;\n",
       "    }\n",
       "</style>\n",
       "<table border=\"1\" class=\"dataframe\">\n",
       "  <thead>\n",
       "    <tr style=\"text-align: right;\">\n",
       "      <th></th>\n",
       "      <th>weekday</th>\n",
       "      <th>sum</th>\n",
       "      <th>average</th>\n",
       "      <th>std_dev</th>\n",
       "    </tr>\n",
       "  </thead>\n",
       "  <tbody>\n",
       "    <tr>\n",
       "      <th>0</th>\n",
       "      <td>3</td>\n",
       "      <td>50546</td>\n",
       "      <td>2.496222</td>\n",
       "      <td>2.749487</td>\n",
       "    </tr>\n",
       "    <tr>\n",
       "      <th>1</th>\n",
       "      <td>1</td>\n",
       "      <td>44649</td>\n",
       "      <td>2.255114</td>\n",
       "      <td>2.310929</td>\n",
       "    </tr>\n",
       "    <tr>\n",
       "      <th>2</th>\n",
       "      <td>4</td>\n",
       "      <td>40248</td>\n",
       "      <td>2.377740</td>\n",
       "      <td>2.753052</td>\n",
       "    </tr>\n",
       "    <tr>\n",
       "      <th>3</th>\n",
       "      <td>2</td>\n",
       "      <td>37121</td>\n",
       "      <td>2.231097</td>\n",
       "      <td>2.375553</td>\n",
       "    </tr>\n",
       "    <tr>\n",
       "      <th>4</th>\n",
       "      <td>5</td>\n",
       "      <td>24263</td>\n",
       "      <td>1.840476</td>\n",
       "      <td>2.102788</td>\n",
       "    </tr>\n",
       "  </tbody>\n",
       "</table>\n",
       "</div>"
      ],
      "text/plain": [
       "  weekday    sum   average   std_dev\n",
       "0       3  50546  2.496222  2.749487\n",
       "1       1  44649  2.255114  2.310929\n",
       "2       4  40248  2.377740  2.753052\n",
       "3       2  37121  2.231097  2.375553\n",
       "4       5  24263  1.840476  2.102788"
      ]
     },
     "execution_count": 8,
     "metadata": {},
     "output_type": "execute_result"
    }
   ],
   "source": [
    "#Question 2: \n",
    "# Total number/average/standard deviation of purchase quantities for the set of weekdays (Monday - Friday) \n",
    "# ordered by descending number of purchases.\n",
    "\n",
    "summary_stats = \"\"\"\n",
    "    SELECT strftime('%w', OrderDate) as weekday,\n",
    "    sum (orderqty) as sum,\n",
    "    avg (orderqty) as average,\n",
    "    sqrt(avg(orderqty * orderqty) - avg(orderqty)*avg(orderqty)) as std_dev\n",
    "    FROM SalesOrderDetail d\n",
    "    LEFT JOIN SalesOrderHeader h ON h.SalesOrderID = d.SalesOrderID\n",
    "    WHERE CAST(strftime('%w', OrderDate) AS INT) BETWEEN 1 AND 5\n",
    "    GROUP BY 1\n",
    "    ORDER BY 2 DESC;\n",
    "\"\"\"\n",
    "pd.read_sql(summary_stats, con=sqlite_engine)"
   ]
  },
  {
   "cell_type": "code",
   "execution_count": 9,
   "metadata": {
    "nbgrader": {
     "grade": false,
     "grade_id": "cell-2b1bbc6190ec3559",
     "locked": false,
     "schema_version": 3,
     "solution": true,
     "task": false
    }
   },
   "outputs": [
    {
     "data": {
      "text/html": [
       "<div>\n",
       "<style scoped>\n",
       "    .dataframe tbody tr th:only-of-type {\n",
       "        vertical-align: middle;\n",
       "    }\n",
       "\n",
       "    .dataframe tbody tr th {\n",
       "        vertical-align: top;\n",
       "    }\n",
       "\n",
       "    .dataframe thead th {\n",
       "        text-align: right;\n",
       "    }\n",
       "</style>\n",
       "<table border=\"1\" class=\"dataframe\">\n",
       "  <thead>\n",
       "    <tr style=\"text-align: right;\">\n",
       "      <th></th>\n",
       "      <th>non_weekday_sale_items</th>\n",
       "    </tr>\n",
       "  </thead>\n",
       "  <tbody>\n",
       "    <tr>\n",
       "      <th>0</th>\n",
       "      <td>265</td>\n",
       "    </tr>\n",
       "  </tbody>\n",
       "</table>\n",
       "</div>"
      ],
      "text/plain": [
       "   non_weekday_sale_items\n",
       "0                     265"
      ]
     },
     "execution_count": 9,
     "metadata": {},
     "output_type": "execute_result"
    }
   ],
   "source": [
    "# Question 3\n",
    "# Number of item_ID’s that were NOT purchased in the weekdays.\n",
    "not_weekday_sale = \"\"\"\n",
    "    SELECT COUNT(*) as non_weekday_sale_items\n",
    "    FROM\n",
    "    ( \n",
    "        SELECT ProductID\n",
    "        FROM SalesOrderDetail d\n",
    "        LEFT JOIN SalesOrderHeader h ON h.SalesOrderID = d.SalesOrderID\n",
    "        WHERE CAST(strftime('%w', OrderDate) AS INT) NOT BETWEEN 1 AND 5\n",
    "        GROUP BY 1\n",
    "    );\n",
    "\"\"\"\n",
    "pd.read_sql(not_weekday_sale, con=sqlite_engine)"
   ]
  },
  {
   "cell_type": "markdown",
   "metadata": {},
   "source": [
    "## Attribution\n",
    "\n",
    "\"AdventureWorks database\", Nov 7, 2017, Microsoft Corporation, [MIT License](https://docs.microsoft.com/en-us/sql/samples/sql-samples-where-are?view=sql-server-ver15), https://github.com/microsoft/sql-server-samples/tree/master/samples/databases/adventure-works"
   ]
  }
 ],
 "metadata": {
  "c1_recart": "6.10.0-57c20131aabc1dc2a8c675852d80a7da",
  "kernelspec": {
   "display_name": "Python 3",
   "language": "python",
   "name": "python3"
  },
  "language_info": {
   "codemirror_mode": {
    "name": "ipython",
    "version": 3
   },
   "file_extension": ".py",
   "mimetype": "text/x-python",
   "name": "python",
   "nbconvert_exporter": "python",
   "pygments_lexer": "ipython3",
   "version": "3.8.8"
  }
 },
 "nbformat": 4,
 "nbformat_minor": 4
}
