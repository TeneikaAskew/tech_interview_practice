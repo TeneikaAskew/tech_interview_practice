{
 "cells": [
  {
   "cell_type": "markdown",
   "metadata": {
    "nbgrader": {
     "grade": false,
     "grade_id": "cell-91c8811a972c66c4",
     "locked": true,
     "schema_version": 3,
     "solution": false,
     "task": false
    }
   },
   "source": [
    "# Estimating ad revenue and lifetime value of Empowerment campaigns"
   ]
  },
  {
   "cell_type": "markdown",
   "metadata": {
    "nbgrader": {
     "grade": false,
     "grade_id": "cell-e950dba2bec7261c",
     "locked": true,
     "schema_version": 3,
     "solution": false,
     "task": false
    },
    "tags": [
     "4_min"
    ]
   },
   "source": [
    "# Introduction\n",
    "\n",
    "You are interviewing for a Product Analytics, Marketing Analytics, Partnerships or Growth Hacking role. The team is looking for someone with a data analytics background who understands key KPIs and metrics around growth and marketing to join the team.",
    "\n",
    "**Business Context.** DS4A is the first scalable, actionable solution for corporations to build diverse and inclusive workforces. Data Science for All (DS4A)/ Empowerment is a virtual data analytics training and jobs program, made available for free to qualifying students and professionals from underrepresented communities, providing new pathways to economic opportunity in the world’s fastest-growing industries. Empowerment is the largest and most innovative program ever to open doors for Black, Hispanic/Latinx, and LGBTQ+ students and professionals through data fluency training and career opportunities. Currently, less than 7% of data professionals identify as Black or Latinx, and significant structural barriers prevent many from acquiring data skills. Data Science for All has grown from an idea to a movement, with nearly 40,000 applications and thousands of graduates around the world- people are starting to notice. With the help of our Employer Partners, we are on track to provide 10,000 endowed scholarships over the next three years. Empowerment currently has 22 Employer Partners bridging the opportunity gap to the data-driven jobs of tomorrow.\n",
    "\n",
    "**Business Problem.** Data Science for All would not be possible without support from Employer Partners. So far, we have partnered with dozens of new Employer Partners. If we added up all the endowed scholarship commitments from each Employer Partner, and only admitted Fellows whose training was paid for by partners, only 350 Fellows could partake in DS4A Empowerment and DS4A / Women annually. **How can we start to understand how shares of Empowerment ads on LinkedIn, Twitter or Facebook drive sponsor acquisition or referrals?**"
   ]
  },
  {
   "cell_type": "markdown",
   "metadata": {
    "nbgrader": {
     "grade": false,
     "grade_id": "cell-cba9ff636a6f2ba8",
     "locked": true,
     "schema_version": 3,
     "solution": false,
     "task": false
    },
    "tags": [
     "6_min"
    ]
   },
   "source": [
    "## How much is the monetary value of sponsor ads on LinkedIn, Twitter or Facebook?\n",
    "\n",
    "Before engaging in any interview, you should research the company and thoroughly understand their business models, especially their revenue model if you are entering into a Product Analyst/Manager/Data Scientist interview. Start taking notes and capture a few thoughts on what metrics are key to tracking performance and what actions drive revenue generation.\n",
    "\n",
    "First we will start by **asking the interviewer questions and stating any assumptions you may have. This allows the interviewer to understand how you’re thinking about this problem.** Once you have gathered your thoughts, be confident and present as if you’re advising your manager."
   ]
  },
  {
   "cell_type": "markdown",
   "metadata": {},
   "source": [
    "### Exercise 1: Asking Clarifying Questions:\n",
    "\n",
    "*Your interviewer will give you the prompt, take a few minutes to ensure you understand what was asked and summarize your understanding of the question and add any details that you have learned about the Empowerment business model. *\n",
    "\n",
    "\n",
    "**Interviewer**: We want to understand the value of an ad placed on various social media platforms, targeting potential sponsors for the Empowerment program. How would you calculate the value of this ad?"
   ]
  },
  {
   "cell_type": "markdown",
   "metadata": {},
   "source": [
    "**Answer.** There are many possible answers, but here are a few:"
   ]
  },
  {
   "cell_type": "markdown",
   "metadata": {},
   "source": [
    "### Exercise 2: Answer Any Outstanding Questions (and Incorporate a Framework):\n",
    "\n",
    "Revisit the initial question, incorporate a framework and summarize any relevant points from the prior questions."
   ]
  },
  {
   "cell_type": "markdown",
   "metadata": {},
   "source": [
    "**Answer.** There are many possible answers, but here are a few:"
   ]
  },
  {
   "cell_type": "markdown",
   "metadata": {},
   "source": [
    "### Exercise 3: Responding to Follow-Up Questions:\n",
    "\n",
    "**Interviewer**: Yes, this is great insight! How would you derive the value of that behavior in those two examples?"
   ]
  },
  {
   "cell_type": "markdown",
   "metadata": {},
   "source": [
    "**Answer.** There are many possible answers, but here are a few:"
   ]
  },
  {
   "cell_type": "markdown",
   "metadata": {},
   "source": [
    "### Exercise 4: Probing Questions:\n",
    "\n",
    "**Interviewer**: Very interesting, so how would you calculate Lifetime Value?\n"
   ]
  },
  {
   "cell_type": "markdown",
   "metadata": {},
   "source": [
    "**Answer.** There are many possible answers, but here are a few:"
   ]
  },
  {
   "cell_type": "markdown",
   "metadata": {},
   "source": [
    "### Exercise 5: Applying the Solution:\n",
    "\n",
    "**Interviewer**: Ah, great work. So based on these calculations we understand how to evaluate value. Now could you tell me what ad industries you recommend targeting?"
   ]
  },
  {
   "cell_type": "markdown",
   "metadata": {},
   "source": [
    "**Answer.** There are many possible answers, but here are a few:"
   ]
  },
  {
   "cell_type": "code",
   "execution_count": 51,
   "metadata": {},
   "outputs": [
    {
     "name": "stdout",
     "output_type": "stream",
     "text": [
      "The expected revenue of a click is $0.03\n",
      "The ad requires ~416,250 impressions to gain 4,329 clicks. This would cost $5,497.84\n",
      "$0.96 of every sponsorship dollar is available for programming.\n"
     ]
    }
   ],
   "source": [
    "#Calculations"
   ]
  },
  {
   "cell_type": "markdown",
   "metadata": {},
   "source": [
    "### Wrap Up:\n",
    "\n",
    "**Interviewer**: This is very interesting, we were thinking about targeting the tech market but these numbers are a bit higher. What are your suggestions if we wanted to continue targeting tech companies?"
   ]
  },
  {
   "cell_type": "markdown",
   "metadata": {},
   "source": [
    "**Answer.** Based on the calculations above I would suggest running an ad in the Education category first and evaluating other industries based on the success of previous sponsors. For example, if many of our sponsors are in Finance or Professional Services, we should evaluate the likelihood of future sponsors in those industries. \n",
    "\n",
    "Employment's cost-per-click is 2.5X the amount of Education and the campaign amount is 3X that of Education. With Tech, the cost-per-click does not have much of a variance but the click-through-rate for Education is 6X more than Tech. \n",
    "\n",
    "I would recommend targeting a sponsor from Tech if the sponsorship amount increased by \\$70K, making it equivalent to the contribution margin of an ad in the employment industry (\\$.98 of every dollar can now go to Empowerment Programming)."
   ]
  },
  {
   "cell_type": "code",
   "execution_count": 52,
   "metadata": {},
   "outputs": [
    {
     "name": "stdout",
     "output_type": "stream",
     "text": [
      "The total lifetime value of a sponsor for 2 cohort(s) is $220,000.00\n",
      "The ad requires ~4,329 clicks to gain 1 sponsors\n",
      "The ad requires ~416,250 impressions to gain 4,329 clicks. This would cost $5,497.84\n",
      "$0.98 of every sponsorship dollar is available for programming.\n"
     ]
    }
   ],
   "source": [
    "#Calculations"
   ]
  },
  {
   "cell_type": "markdown",
   "metadata": {},
   "source": [
    "## Attribution\n",
    "\n",
    "\"Facebook Ad Benchmarks for YOUR Industry\", [WordStream](https://www.wordstream.com/blog/ws/2017/02/28/facebook-advertising-benchmarks), [Structured Frameworks for Product](https://www.mypminterview.com/p/frameworks-list-for-structured-product), [Product Management Frameworks](https://www.productplan.com/learn/product-management-frameworks), [Lewis Lin Important Product Frameworks](https://www.lewis-lin.com/blog/important-product-manager-frameworks), [Product Frameworks](https://productfolio.com/c/product-frameworks)\n",
    "\n",
    "CPC = Cost-per-click\n",
    "CVR = Conversion rate\n",
    "CTR = Click-through-rate\n",
    "CMR = Contribution margin ratio"
   ]
  }
 ],
 "metadata": {
  "c1_recart": "6.10.0-57c20131aabc1dc2a8c675852d80a7da",
  "celltoolbar": "Tags",
  "kernelspec": {
   "display_name": "Python 3",
   "language": "python",
   "name": "python3"
  },
  "language_info": {
   "codemirror_mode": {
    "name": "ipython",
    "version": 3
   },
   "file_extension": ".py",
   "mimetype": "text/x-python",
   "name": "python",
   "nbconvert_exporter": "python",
   "pygments_lexer": "ipython3",
   "version": "3.8.8"
  }
 },
 "nbformat": 4,
 "nbformat_minor": 4
}
