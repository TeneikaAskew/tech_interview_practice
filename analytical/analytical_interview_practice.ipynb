{
 "cells": [
  {
   "cell_type": "markdown",
   "metadata": {
    "nbgrader": {
     "grade": false,
     "grade_id": "cell-91c8811a972c66c4",
     "locked": true,
     "schema_version": 3,
     "solution": false,
     "task": false
    }
   },
   "source": [
    "# Estimating ad revenue and lifetime value of Empowerment campaigns"
   ]
  },
  {
   "cell_type": "markdown",
   "metadata": {
    "nbgrader": {
     "grade": false,
     "grade_id": "cell-e950dba2bec7261c",
     "locked": true,
     "schema_version": 3,
     "solution": false,
     "task": false
    },
    "tags": [
     "4_min"
    ]
   },
   "source": [
    "# Introduction\n",
    "\n",
    "DS4A is the first scalable, actionable solution for corporations to build diverse and inclusive workforces. Data Science for All (DS4A)/ Empowerment is a virtual data analytics training and jobs program, made available for free to qualifying students and professionals from underrepresented communities, providing new pathways to economic opportunity in the world’s fastest-growing industries. Empowerment is the largest and most innovative program ever to open doors for Black, Hispanic/Latinx, and LGBTQ+ students and professionals through data fluency training and career opportunities.\n",
    "\n",
    "**Business Context.** Currently, less than 7% of data professionals identify as Black or Latinx, and significant structural barriers prevent many from acquiring data skills. Data Science for All has grown from an idea to a movement, with nearly 40,000 applications and thousands of graduates around the world- people are starting to notice. With the help of our Employer Partners, we are on track to provide 10,000 endowed scholarships over the next three years. Empowerment currently has 22 Employer Partners bridging the opportunity gap to the data-driven jobs of tomorrow.\n",
    "\n",
    "**Business Problem.** Data Science for All would not be possible without support from Employer Partners. So far, we have partnered with dozens of new Employer Partners. If we added up all the endowed scholarship commitments from each Employer Partner, and only admitted Fellows whose training was paid for by partners, only 350 Fellows could partake in DS4A Empowerment and DS4A / Women annually. **How can we start to understand how shares of Empowerment ads on LinkedIn, Twitter or Facebook drive sponsor acquisition or referrals?**"
   ]
  },
  {
   "cell_type": "markdown",
   "metadata": {
    "nbgrader": {
     "grade": false,
     "grade_id": "cell-cba9ff636a6f2ba8",
     "locked": true,
     "schema_version": 3,
     "solution": false,
     "task": false
    },
    "tags": [
     "6_min"
    ]
   },
   "source": [
    "## How much is the monetary value of sponsor ads on LinkedIn, Twitter or Facebook?\n",
    "\n",
    "Before engaging in any interview, you should research the company and thoroughly understand their business models, especially their revenue model if you are entering into a Product Analyst/Manager/Data Scientist interview. Start taking notes and capture a few thoughts on what metrics are key to tracking performance and what actions drive revenue generation.\n",
    "\n",
    "First we will start by **asking the interviewer questions and stating any assumptions you may have. This allows the interviewer to understand how you’re thinking about this problem.** Once you have gathered your thoughts, be confident and present as if you’re advising your manager."
   ]
  },
  {
   "cell_type": "markdown",
   "metadata": {},
   "source": [
    "### Exercise 1: Asking Clarifying Questions:\n",
    "\n",
    "*Your interviewer will give you the prompt, take a few minutes to ensure you understand what was asked and summarize your understanding of the question and add any details that you have learned about the Empowerment business model. *\n",
    "\n",
    "\n",
    "**Interviewer**: We want to understand the value of an ad placed on various social media platforms, targeting potential sponsors for the Empowerment program. How would you calculate the value of this ad?"
   ]
  },
  {
   "cell_type": "markdown",
   "metadata": {},
   "source": [
    "**Answer.** There are many possible answers, but here are a few:\n",
    "\n",
    "**Interviewee**: Thank you, from my understanding of social media ads, they are targeted to users based on their location, demographic and profile information (such as age, gender, connections, education, etc.). You will also need to create a budget and bid for each click or impressions that your ad will receive. \n",
    "\n",
    "I do have some preliminary questions:\n",
    "* I read on the Sponsor page that there are varying levels of sponsorship. Are there any revenue/sponsorship targets for these ads?\n",
    "    - **Interviewer**: Yes we do have varying levels of sponsorship and we would like a sponsor to cover 20+ endowed scholarships \n",
    "\n",
    "\n",
    "* Are there any key metrics that Empowerment is already tracking against ads or referral campaigns?\n",
    "    - **Interviewer**: Yes we track the number of clicks on our website and the journey of a user who visits the sponsorship page\n",
    "    \n",
    "\n",
    "* What is the cost of training a fellow? \n",
    "    - **Interviewer**: Let's make an assumption that our costs are the industry standard\n",
    "\n",
    "\n",
    "* How is revenue currently generated from ads?\n",
    "    - **Interviewer**: I'm not sure, what are your thoughts on how ads could generate revenue for a business?\n",
    "\n",
    "Here you **do not** want to jump into solutioning. Take a breath! Formulate your thoughts and put them in a structured fashion."
   ]
  },
  {
   "cell_type": "markdown",
   "metadata": {},
   "source": [
    "### Exercise 2: Answer Any Outstanding Questions (and Incorporate a Framework):\n",
    "\n",
    "Revisit the initial question, incorporate a framework and summarize any relevant points from the prior questions."
   ]
  },
  {
   "cell_type": "markdown",
   "metadata": {},
   "source": [
    "**Answer.**\n",
    "\n",
    "**Interviewee**:Thank you, for providing this information. I would first like to suggest Empowerment incorporate the AARRR framework to grow the Empowerment program sponsors and fellows!\n",
    "\n",
    "#### Frameworks for answering analytical style questions:\n",
    "[AARRR framework](https://growthrocks.com/blog/aarrr-framework/) is an acronym for a set of five user-behavior metrics that product-led growth businesses should be tracking: acquisition, activation, retention, referral, and revenue.\n",
    "<img src=\"aarrr-framework.png\" width=\"500\"/>\n",
    "\n",
    "* **Acquisition (or awareness)** – How are people discovering our product or company?\n",
    "* **Activation** – Are these people taking the actions we want them to?\n",
    "* **Retention** – Are our activated users continuing to engage with the product?\n",
    "* **Referral** – Do users like the product enough to tell others about it?\n",
    "* **Revenue**- Are our personas willing to pay for this product?)\n",
    "\n",
    "Now that we understand the framework, I would like to answer your last question, how ads generate revenue for a business. There are multiple ways that an ad can generate revenue,  three key ways are:\n",
    "* A user clicking on an advertisement that directs them to the sponsorship page (Acquisition)\n",
    "* A user downloading the sponsor brochure (creating a lead - Activation)\n",
    "* A user clicking on links to become a sponsor immediately from the sponsorship page (Revenue)\n",
    "\n",
    "Would you agree?\n"
   ]
  },
  {
   "cell_type": "markdown",
   "metadata": {},
   "source": [
    "### Exercise 3: Responding to Follow-Up Questions:\n",
    "\n",
    "**Interviewer**: Yes, this is great insight! How would you derive the value of that behavior in those two examples?"
   ]
  },
  {
   "cell_type": "markdown",
   "metadata": {},
   "source": [
    "**Answer.**\n",
    "\n",
    "**Interviewee**: I would evaluate the value of an ad by calculating the expected revenue plus the average number of new sponsors multiplied by the Lifetime Value of a sponsor:\n",
    "\n",
    "**Value of an ad = Expected ad revenue from clicking an ad + Average # of new sponsors per ad * Lifetime Value of a new sponsor**\n",
    "\n",
    "To calculate expected revenue we would need some historical data on ad clicks and previous sponsorships conversion rates. Ideally we would look at this over the course of a time period but since DS4A is very new we will calculate it as follows:\n",
    "\n",
    "**Expected revenue from clicking an ad = Likelihood of an ad click * Average cost per click**"
   ]
  },
  {
   "cell_type": "markdown",
   "metadata": {},
   "source": [
    "### Exercise 4: Probing Questions:\n",
    "\n",
    "**Interviewer**: Very interesting, so how would you calculate Lifetime Value?\n"
   ]
  },
  {
   "cell_type": "markdown",
   "metadata": {},
   "source": [
    "**Answer.**\n",
    "\n",
    "**Interviewee**: Lifetime Value (LTV) is typically calculated by looking at a customers purchases across a period of time. This is typically done in a cohort analysis by grouping customers who signed up for a product or service within the same timeframe, together, to see what additional products or services they purchase across the next year or so. We then average the revenues over the lifetime. \n",
    "\n",
    "Let's assume the average sponsorship revenue for the level you mentioned above (Champion) was 75,000 and the sponsor stayed on for 4 cohorts. If we were to calculate LTV, we would multiply the average sponsorship revenue across the number of cohorts sponsored:\n",
    "\n",
    "**LifeTime Value = Avg Sponsor Revenue * Average # of cohorts sponsored**"
   ]
  },
  {
   "cell_type": "markdown",
   "metadata": {},
   "source": [
    "### Exercise 5: Applying the Solution:\n",
    "\n",
    "**Interviewer**: Ah, great work. So based on these calculations we understand how to evaluate value. Now could you tell me what ad industries you recommend targeting?"
   ]
  },
  {
   "cell_type": "markdown",
   "metadata": {},
   "source": [
    "**Answer.**\n",
    "\n",
    "\n",
    "**Interviewee**: According to [WordStream](https://www.wordstream.com/blog/ws/2017/02/28/facebook-advertising-benchmarks), the average conversion rate in education is 13.58% and the average for employment and job training is 11.37%. The average cost per click for education is \\\\$1.06 and for employment and job training it is $2.72.\n",
    "\n",
    "We will be leveraging industry rates for advertising and also calculated the Contribution Margin Ratio (which is the percentage of sponsorship amount that is available to cover Empowerment programming costs and contribute to profit less campaign costs). "
   ]
  },
  {
   "cell_type": "code",
   "execution_count": 48,
   "metadata": {},
   "outputs": [
    {
     "name": "stdout",
     "output_type": "stream",
     "text": [
      "The total lifetime value of a sponsor for 2 cohort(s) is $150,000.00\n"
     ]
    }
   ],
   "source": [
    "#LTV\n",
    "SponsorRev = 75000\n",
    "Cohorts = 2\n",
    "LTV = SponsorRev * Cohorts\n",
    "print('The total lifetime value of a sponsor for '+ \"{:,.0f}\".format(Cohorts)+' cohort(s) is ' + \"${:,.2f}\".format(LTV))"
   ]
  },
  {
   "cell_type": "code",
   "execution_count": 49,
   "metadata": {},
   "outputs": [
    {
     "name": "stdout",
     "output_type": "stream",
     "text": [
      "The expected revenue of a click is $0.14\n",
      "The ad requires ~100,874 impressions to receive 736 clicks and would cost $780.56\n",
      "$0.99 of every sponsorship dollar is available for programming.\n"
     ]
    }
   ],
   "source": [
    "#Ad in Education\n",
    "CPC = 1.06\n",
    "CVR = .1358\n",
    "CTR = .0073\n",
    "\n",
    "SponsorsSignedUp = 1\n",
    "Clicks = (SponsorsSignedUp / CVR)*100\n",
    "Impressions = (Clicks/CTR) #Impressions are views, likes, shares and comments of a post/ad\n",
    "CampaignCost = CPC * Clicks\n",
    "\n",
    "ExpectedRevenue = CPC * CVR\n",
    "print('The expected revenue of a click is ' + \"${:,.2f}\".format(ExpectedRevenue))\n",
    "\n",
    "AdValue = ExpectedRevenue + SponsorsSignedUp * LTV\n",
    "print('The ad requires ~' + \"{:,.0f}\".format(Impressions) + ' impressions to receive ' + \"{:,.0f}\".format(Clicks) + ' clicks and would cost '+\"${:,.2f}\".format(CampaignCost))\n",
    "CMR = (AdValue-CampaignCost)/(AdValue)\n",
    "print(\"${:,.2f}\".format(CMR)+' of every sponsorship dollar is available for programming.')"
   ]
  },
  {
   "cell_type": "code",
   "execution_count": 50,
   "metadata": {},
   "outputs": [
    {
     "name": "stdout",
     "output_type": "stream",
     "text": [
      "The expected revenue of a click is $0.31\n",
      "The ad requires ~187,129 impressions to gain 880 clicks. This would cost $2,392.26\n",
      "$0.98 of every sponsorship dollar is available for programming.\n"
     ]
    }
   ],
   "source": [
    "#Ad in Employment and Job Training\n",
    "CPC = 2.72\n",
    "CVR = .1137\n",
    "CTR = .0047\n",
    "Clicks = (SponsorsSignedUp / CVR)*100\n",
    "Impressions = (Clicks/CTR)\n",
    "CampaignCost = CPC * Clicks\n",
    "\n",
    "ExpectedRevenue = CPC * CVR\n",
    "print('The expected revenue of a click is ' + \"${:,.2f}\".format(ExpectedRevenue))\n",
    "\n",
    "AdValue = ExpectedRevenue + SponsorsSignedUp * LTV\n",
    "print('The ad requires ~' + \"{:,.0f}\".format(Impressions) + ' impressions to gain '+\"{:,.0f}\".format(Clicks)+' clicks. This would cost '+\"${:,.2f}\".format(CampaignCost))\n",
    "CMR = (AdValue-CampaignCost)/(AdValue)\n",
    "print(\"${:,.2f}\".format(CMR)+' of every sponsorship dollar is available for programming.')"
   ]
  },
  {
   "cell_type": "code",
   "execution_count": 51,
   "metadata": {},
   "outputs": [
    {
     "name": "stdout",
     "output_type": "stream",
     "text": [
      "The expected revenue of a click is $0.03\n",
      "The ad requires ~416,250 impressions to gain 4,329 clicks. This would cost $5,497.84\n",
      "$0.96 of every sponsorship dollar is available for programming.\n"
     ]
    }
   ],
   "source": [
    "#Ad in Technology\n",
    "CPC = 1.27\n",
    "CVR = .0231\n",
    "CTR = .0104\n",
    "Clicks = (SponsorsSignedUp / CVR)*100\n",
    "Impressions = (Clicks/CTR)\n",
    "CampaignCost = CPC * Clicks\n",
    "\n",
    "ExpectedRevenue = CPC * CVR\n",
    "print('The expected revenue of a click is ' + \"${:,.2f}\".format(ExpectedRevenue))\n",
    "\n",
    "AdValue = ExpectedRevenue + SponsorsSignedUp * LTV\n",
    "print('The ad requires ~' + \"{:,.0f}\".format(Impressions) + ' impressions to gain '+\"{:,.0f}\".format(Clicks)+' clicks. This would cost '+\"${:,.2f}\".format(CampaignCost))\n",
    "CMR = (AdValue-CampaignCost)/(AdValue)\n",
    "print(\"${:,.2f}\".format(CMR)+' of every sponsorship dollar is available for programming.')"
   ]
  },
  {
   "cell_type": "markdown",
   "metadata": {},
   "source": [
    "### Wrap Up:\n",
    "\n",
    "**Interviewer**: This is very interesting, we were thinking about targeting the tech market but these numbers are a bit higher. What are your suggestions if we wanted to continue targeting tech companies?"
   ]
  },
  {
   "cell_type": "markdown",
   "metadata": {},
   "source": [
    "**Answer.** Based on the calculations above I would suggest running an ad in the Education category first and evaluating other industries based on the success of previous sponsors. For example, if many of our sponsors are in Finance or Professional Services, we should evaluate the likelihood of future sponsors in those industries and the cost to run ads in Finance and Professional Service Industries. \n",
    "\n",
    "Going back to the industries I calculated above, while Employment's cost-per-click is 2.5X the amount of Education and the campaign amount is 3X that of Education. With Tech, the cost-per-click does not have much of a variance but the click-through-rate for Education is 6X more than Tech. \n",
    "\n",
    "I would recommend targeting a sponsor from Tech if the sponsorship amount increased by $35K per cohort, making it equivalent to the contribution margin of an ad in the employment industry (\\\\$.98 of every dollar can now go to Empowerment Programming). "
   ]
  },
  {
   "cell_type": "code",
   "execution_count": 52,
   "metadata": {},
   "outputs": [
    {
     "name": "stdout",
     "output_type": "stream",
     "text": [
      "The total lifetime value of a sponsor for 2 cohort(s) is $220,000.00\n",
      "The ad requires ~4,329 clicks to gain 1 sponsors\n",
      "The ad requires ~416,250 impressions to gain 4,329 clicks. This would cost $5,497.84\n",
      "$0.98 of every sponsorship dollar is available for programming.\n"
     ]
    }
   ],
   "source": [
    "SponsorRev = 110000\n",
    "Cohorts = 2\n",
    "LTV = SponsorRev * Cohorts\n",
    "\n",
    "#Ad in Technology\n",
    "CPC = 1.27\n",
    "CVR = .0231\n",
    "CTR = .0104\n",
    "Clicks = (SponsorsSignedUp / CVR)*100\n",
    "Impressions = (Clicks/CTR)\n",
    "CampaignCost = CPC * Clicks\n",
    "\n",
    "ExpectedRevenue = CPC * CVR\n",
    "\n",
    "AdValue = ExpectedRevenue + SponsorsSignedUp * LTV\n",
    "print('The total lifetime value of a sponsor for '+ \"{:,.0f}\".format(Cohorts)+' cohort(s) is ' + \"${:,.2f}\".format(LTV))\n",
    "print('The ad requires ~' + \"{:,.0f}\".format(Clicks) + ' clicks to gain '+\"{:,.0f}\".format(SponsorsSignedUp)+' sponsors')\n",
    "print('The ad requires ~' + \"{:,.0f}\".format(Impressions) + ' impressions to gain '+\"{:,.0f}\".format(Clicks)+' clicks. This would cost '+\"${:,.2f}\".format(CampaignCost))\n",
    "CMR = (AdValue-CampaignCost)/(AdValue)\n",
    "print(\"${:,.2f}\".format(CMR)+' of every sponsorship dollar is available for programming.')"
   ]
  },
  {
   "cell_type": "markdown",
   "metadata": {},
   "source": [
    "## Attribution\n",
    "\n",
    "\"Facebook Ad Benchmarks for YOUR Industry\", [WordStream](https://www.wordstream.com/blog/ws/2017/02/28/facebook-advertising-benchmarks), [Structured Frameworks for Product](https://www.mypminterview.com/p/frameworks-list-for-structured-product), [Product Management Frameworks](https://www.productplan.com/learn/product-management-frameworks), [Lewis Lin Important Product Frameworks](https://www.lewis-lin.com/blog/important-product-manager-frameworks), [Product Frameworks](https://productfolio.com/c/product-frameworks)\n",
    "CPC = Cost-per-click\n",
    "CVR = Conversion rate\n",
    "CTR = Click-through-rate\n",
    "CMR = Contribution margin ratio"
   ]
  }
 ],
 "metadata": {
  "c1_recart": "6.10.0-57c20131aabc1dc2a8c675852d80a7da",
  "celltoolbar": "Tags",
  "kernelspec": {
   "display_name": "Python 3",
   "language": "python",
   "name": "python3"
  },
  "language_info": {
   "codemirror_mode": {
    "name": "ipython",
    "version": 3
   },
   "file_extension": ".py",
   "mimetype": "text/x-python",
   "name": "python",
   "nbconvert_exporter": "python",
   "pygments_lexer": "ipython3",
   "version": "3.8.8"
  }
 },
 "nbformat": 4,
 "nbformat_minor": 4
}
